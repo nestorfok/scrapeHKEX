{
 "metadata": {
  "language_info": {
   "codemirror_mode": {
    "name": "ipython",
    "version": 3
   },
   "file_extension": ".py",
   "mimetype": "text/x-python",
   "name": "python",
   "nbconvert_exporter": "python",
   "pygments_lexer": "ipython3",
   "version": "3.8.5-final"
  },
  "orig_nbformat": 2,
  "kernelspec": {
   "name": "python3",
   "display_name": "Python 3.8.5 64-bit",
   "metadata": {
    "interpreter": {
     "hash": "0adcc2737ebf6a4a119f135174df96668767fca1ef1112612db5ecadf2b6d608"
    }
   }
  }
 },
 "nbformat": 4,
 "nbformat_minor": 2,
 "cells": [
  {
   "cell_type": "code",
   "execution_count": 89,
   "metadata": {},
   "outputs": [],
   "source": [
    "import pandas as pd\n",
    "from datetime import datetime"
   ]
  },
  {
   "cell_type": "code",
   "execution_count": 90,
   "metadata": {},
   "outputs": [],
   "source": [
    "df_2017 = pd.read_csv('../scrapeResult/stock_ESG_Report_Collected_2017.csv')\n",
    "df_2018 = pd.read_csv('../scrapeResult/stock_ESG_Report_Collected_2018.csv')\n",
    "df_2019 = pd.read_csv('../scrapeResult/stock_ESG_Report_Collected_2019.csv')\n",
    "df_2020 = pd.read_csv('../scrapeResult/stock_ESG_Report_Collected_2020.csv')\n",
    "df_2021 = pd.read_csv('../scrapeResult/stock_ESG_Report_Collected_2021.csv')\n",
    "df_2022 = pd.read_csv('../scrapeResult/stock_ESG_Report_Collected_2022.csv')\n",
    "df_2023 = pd.read_csv('../scrapeResult/stock_ESG_Report_Collected_2023.csv')"
   ]
  },
  {
   "cell_type": "code",
   "execution_count": 91,
   "metadata": {},
   "outputs": [
    {
     "output_type": "execute_result",
     "data": {
      "text/plain": [
       "Empty DataFrame\n",
       "Columns: [stock_code, ESG_2017_rel_date, ESG_2018_rel_date, ESG_2019_rel_date, ESG_2020_rel_date, ESG_2021_rel_date, ESG_2022_rel_date, ESG_2023_rel_date]\n",
       "Index: []"
      ],
      "text/html": "<div>\n<style scoped>\n    .dataframe tbody tr th:only-of-type {\n        vertical-align: middle;\n    }\n\n    .dataframe tbody tr th {\n        vertical-align: top;\n    }\n\n    .dataframe thead th {\n        text-align: right;\n    }\n</style>\n<table border=\"1\" class=\"dataframe\">\n  <thead>\n    <tr style=\"text-align: right;\">\n      <th></th>\n      <th>stock_code</th>\n      <th>ESG_2017_rel_date</th>\n      <th>ESG_2018_rel_date</th>\n      <th>ESG_2019_rel_date</th>\n      <th>ESG_2020_rel_date</th>\n      <th>ESG_2021_rel_date</th>\n      <th>ESG_2022_rel_date</th>\n      <th>ESG_2023_rel_date</th>\n    </tr>\n  </thead>\n  <tbody>\n  </tbody>\n</table>\n</div>"
     },
     "metadata": {},
     "execution_count": 91
    }
   ],
   "source": [
    "columns = ['stock_code', 'ESG_2017_rel_date', 'ESG_2018_rel_date', 'ESG_2019_rel_date', 'ESG_2020_rel_date', 'ESG_2021_rel_date', 'ESG_2022_rel_date', 'ESG_2023_rel_date']\n",
    "df_result = pd.DataFrame(columns=columns)\n",
    "df_result"
   ]
  },
  {
   "cell_type": "code",
   "execution_count": 92,
   "metadata": {},
   "outputs": [],
   "source": [
    "def concatenateData(df_result, df_year):\n",
    "    for index, row in df_year.iterrows():\n",
    "        if row['stock_code'] not in df_result['stock_code'].values:\n",
    "            df_result = df_result.append(row, ignore_index = True)\n",
    "        else:\n",
    "            for col in columns[1:]:\n",
    "                if pd.isna(row[col]) is False:\n",
    "                    if pd.isna(df_result[col].loc[df_result['stock_code'] == row['stock_code']].values[0]) is True:\n",
    "                        df_result[col].loc[df_result['stock_code'] == row['stock_code']] = row[col]\n",
    "                    else:\n",
    "                        new_date = datetime.strptime(row[col], '%d/%m/%Y').date()\n",
    "                        old_date = datetime.strptime(df_result[col].loc[df_result['stock_code'] == row['stock_code']].values[0], '%d/%m/%Y').date()\n",
    "                        if new_date > old_date:\n",
    "                            df_result[col].loc[df_result['stock_code'] == row['stock_code']] = row[col]\n",
    "                else:\n",
    "                    continue\n",
    "    return df_result\n"
   ]
  },
  {
   "cell_type": "code",
   "execution_count": 93,
   "metadata": {},
   "outputs": [
    {
     "output_type": "execute_result",
     "data": {
      "text/plain": [
       "     stock_code ESG_2017_rel_date ESG_2018_rel_date ESG_2019_rel_date  \\\n",
       "0      00016.HK        31/12/2018        23/12/2019        30/11/2020   \n",
       "1      00315.HK        24/12/2018        29/12/2019        28/12/2020   \n",
       "2      01079.HK        22/12/2017        29/11/2018        04/12/2019   \n",
       "3      00717.HK        27/12/2018        09/01/2020        06/01/2021   \n",
       "4      00659.HK        21/12/2017        17/12/2018        18/12/2019   \n",
       "...         ...               ...               ...               ...   \n",
       "2579   40852.HK               NaN               NaN               NaN   \n",
       "2580   40853.HK               NaN               NaN               NaN   \n",
       "2581   40854.HK               NaN               NaN               NaN   \n",
       "2582   40253.HK               NaN               NaN               NaN   \n",
       "2583   01833.HK               NaN               NaN               NaN   \n",
       "\n",
       "     ESG_2020_rel_date ESG_2021_rel_date ESG_2022_rel_date ESG_2023_rel_date  \n",
       "0           30/11/2021        06/10/2022        04/10/2023               NaN  \n",
       "1           30/11/2021        30/11/2022        26/09/2023               NaN  \n",
       "2           08/12/2020        23/11/2021        27/10/2022        27/10/2023  \n",
       "3           28/01/2022        19/01/2023               NaN               NaN  \n",
       "4           22/10/2020        20/10/2021               NaN        17/10/2023  \n",
       "...                ...               ...               ...               ...  \n",
       "2579               NaN               NaN        30/03/2023               NaN  \n",
       "2580               NaN               NaN        30/03/2023               NaN  \n",
       "2581               NaN               NaN        30/03/2023               NaN  \n",
       "2582               NaN               NaN        27/03/2023               NaN  \n",
       "2583               NaN               NaN        22/03/2023               NaN  \n",
       "\n",
       "[2584 rows x 8 columns]"
      ],
      "text/html": "<div>\n<style scoped>\n    .dataframe tbody tr th:only-of-type {\n        vertical-align: middle;\n    }\n\n    .dataframe tbody tr th {\n        vertical-align: top;\n    }\n\n    .dataframe thead th {\n        text-align: right;\n    }\n</style>\n<table border=\"1\" class=\"dataframe\">\n  <thead>\n    <tr style=\"text-align: right;\">\n      <th></th>\n      <th>stock_code</th>\n      <th>ESG_2017_rel_date</th>\n      <th>ESG_2018_rel_date</th>\n      <th>ESG_2019_rel_date</th>\n      <th>ESG_2020_rel_date</th>\n      <th>ESG_2021_rel_date</th>\n      <th>ESG_2022_rel_date</th>\n      <th>ESG_2023_rel_date</th>\n    </tr>\n  </thead>\n  <tbody>\n    <tr>\n      <th>0</th>\n      <td>00016.HK</td>\n      <td>31/12/2018</td>\n      <td>23/12/2019</td>\n      <td>30/11/2020</td>\n      <td>30/11/2021</td>\n      <td>06/10/2022</td>\n      <td>04/10/2023</td>\n      <td>NaN</td>\n    </tr>\n    <tr>\n      <th>1</th>\n      <td>00315.HK</td>\n      <td>24/12/2018</td>\n      <td>29/12/2019</td>\n      <td>28/12/2020</td>\n      <td>30/11/2021</td>\n      <td>30/11/2022</td>\n      <td>26/09/2023</td>\n      <td>NaN</td>\n    </tr>\n    <tr>\n      <th>2</th>\n      <td>01079.HK</td>\n      <td>22/12/2017</td>\n      <td>29/11/2018</td>\n      <td>04/12/2019</td>\n      <td>08/12/2020</td>\n      <td>23/11/2021</td>\n      <td>27/10/2022</td>\n      <td>27/10/2023</td>\n    </tr>\n    <tr>\n      <th>3</th>\n      <td>00717.HK</td>\n      <td>27/12/2018</td>\n      <td>09/01/2020</td>\n      <td>06/01/2021</td>\n      <td>28/01/2022</td>\n      <td>19/01/2023</td>\n      <td>NaN</td>\n      <td>NaN</td>\n    </tr>\n    <tr>\n      <th>4</th>\n      <td>00659.HK</td>\n      <td>21/12/2017</td>\n      <td>17/12/2018</td>\n      <td>18/12/2019</td>\n      <td>22/10/2020</td>\n      <td>20/10/2021</td>\n      <td>NaN</td>\n      <td>17/10/2023</td>\n    </tr>\n    <tr>\n      <th>...</th>\n      <td>...</td>\n      <td>...</td>\n      <td>...</td>\n      <td>...</td>\n      <td>...</td>\n      <td>...</td>\n      <td>...</td>\n      <td>...</td>\n    </tr>\n    <tr>\n      <th>2579</th>\n      <td>40852.HK</td>\n      <td>NaN</td>\n      <td>NaN</td>\n      <td>NaN</td>\n      <td>NaN</td>\n      <td>NaN</td>\n      <td>30/03/2023</td>\n      <td>NaN</td>\n    </tr>\n    <tr>\n      <th>2580</th>\n      <td>40853.HK</td>\n      <td>NaN</td>\n      <td>NaN</td>\n      <td>NaN</td>\n      <td>NaN</td>\n      <td>NaN</td>\n      <td>30/03/2023</td>\n      <td>NaN</td>\n    </tr>\n    <tr>\n      <th>2581</th>\n      <td>40854.HK</td>\n      <td>NaN</td>\n      <td>NaN</td>\n      <td>NaN</td>\n      <td>NaN</td>\n      <td>NaN</td>\n      <td>30/03/2023</td>\n      <td>NaN</td>\n    </tr>\n    <tr>\n      <th>2582</th>\n      <td>40253.HK</td>\n      <td>NaN</td>\n      <td>NaN</td>\n      <td>NaN</td>\n      <td>NaN</td>\n      <td>NaN</td>\n      <td>27/03/2023</td>\n      <td>NaN</td>\n    </tr>\n    <tr>\n      <th>2583</th>\n      <td>01833.HK</td>\n      <td>NaN</td>\n      <td>NaN</td>\n      <td>NaN</td>\n      <td>NaN</td>\n      <td>NaN</td>\n      <td>22/03/2023</td>\n      <td>NaN</td>\n    </tr>\n  </tbody>\n</table>\n<p>2584 rows × 8 columns</p>\n</div>"
     },
     "metadata": {},
     "execution_count": 93
    }
   ],
   "source": [
    "df_result = concatenateData(df_result, df_2017)\n",
    "df_result = concatenateData(df_result, df_2018)\n",
    "df_result = concatenateData(df_result, df_2019)\n",
    "df_result = concatenateData(df_result, df_2020)\n",
    "df_result = concatenateData(df_result, df_2021)\n",
    "df_result = concatenateData(df_result, df_2022)\n",
    "df_result = concatenateData(df_result, df_2023)\n",
    "df_result"
   ]
  },
  {
   "cell_type": "code",
   "execution_count": 94,
   "metadata": {},
   "outputs": [
    {
     "output_type": "stream",
     "name": "stdout",
     "text": [
      "     stock_code ESG_2017_rel_date ESG_2018_rel_date ESG_2019_rel_date  \\\n1670   00254.HK        28/10/2019        28/10/2019        30/10/2020   \n\n     ESG_2020_rel_date ESG_2021_rel_date ESG_2022_rel_date ESG_2023_rel_date  \n1670        15/07/2021        31/05/2022               NaN        30/10/2023  \n"
     ]
    }
   ],
   "source": [
    "print(df_result.loc[df_result['stock_code'] == '00254.HK'])"
   ]
  },
  {
   "cell_type": "code",
   "execution_count": 97,
   "metadata": {},
   "outputs": [],
   "source": [
    "df_result.to_csv('concatenatedESGData.csv')"
   ]
  },
  {
   "cell_type": "code",
   "execution_count": 96,
   "metadata": {},
   "outputs": [],
   "source": [
    "# df_result['ESG_2018_rel_date'].loc[df_result['stock_code'] == '08140.HK']"
   ]
  },
  {
   "cell_type": "code",
   "execution_count": null,
   "metadata": {},
   "outputs": [],
   "source": []
  }
 ]
}