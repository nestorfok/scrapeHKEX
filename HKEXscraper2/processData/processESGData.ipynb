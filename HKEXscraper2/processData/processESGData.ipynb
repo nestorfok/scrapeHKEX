{
 "metadata": {
  "language_info": {
   "codemirror_mode": {
    "name": "ipython",
    "version": 3
   },
   "file_extension": ".py",
   "mimetype": "text/x-python",
   "name": "python",
   "nbconvert_exporter": "python",
   "pygments_lexer": "ipython3",
   "version": "3.8.5-final"
  },
  "orig_nbformat": 2,
  "kernelspec": {
   "name": "python3",
   "display_name": "Python 3.8.5 64-bit",
   "metadata": {
    "interpreter": {
     "hash": "0adcc2737ebf6a4a119f135174df96668767fca1ef1112612db5ecadf2b6d608"
    }
   }
  }
 },
 "nbformat": 4,
 "nbformat_minor": 2,
 "cells": [
  {
   "cell_type": "code",
   "execution_count": 9,
   "metadata": {},
   "outputs": [],
   "source": [
    "import pandas as pd"
   ]
  },
  {
   "cell_type": "code",
   "execution_count": 10,
   "metadata": {},
   "outputs": [],
   "source": [
    "df_2017 = pd.read_csv('../scrapeResult/stock_ESG_Report_Collected_2017.csv')\n",
    "df_2018 = pd.read_csv('../scrapeResult/stock_ESG_Report_Collected_2018.csv')\n",
    "df_2019 = pd.read_csv('../scrapeResult/stock_ESG_Report_Collected_2019.csv')\n",
    "df_2020 = pd.read_csv('../scrapeResult/stock_ESG_Report_Collected_2020.csv')\n",
    "df_2021 = pd.read_csv('../scrapeResult/stock_ESG_Report_Collected_2021.csv')\n",
    "df_2022 = pd.read_csv('../scrapeResult/stock_ESG_Report_Collected_2022.csv')\n",
    "df_2023 = pd.read_csv('../scrapeResult/stock_ESG_Report_Collected_2023.csv')"
   ]
  },
  {
   "cell_type": "code",
   "execution_count": 11,
   "metadata": {},
   "outputs": [
    {
     "output_type": "execute_result",
     "data": {
      "text/plain": [
       "Empty DataFrame\n",
       "Columns: [stock_code, ESG_2017_rel_date, ESG_2018_rel_date, ESG_2019_rel_date, ESG_2020_rel_date, ESG_2021_rel_date, ESG_2022_rel_date, ESG_2023_rel_date]\n",
       "Index: []"
      ],
      "text/html": "<div>\n<style scoped>\n    .dataframe tbody tr th:only-of-type {\n        vertical-align: middle;\n    }\n\n    .dataframe tbody tr th {\n        vertical-align: top;\n    }\n\n    .dataframe thead th {\n        text-align: right;\n    }\n</style>\n<table border=\"1\" class=\"dataframe\">\n  <thead>\n    <tr style=\"text-align: right;\">\n      <th></th>\n      <th>stock_code</th>\n      <th>ESG_2017_rel_date</th>\n      <th>ESG_2018_rel_date</th>\n      <th>ESG_2019_rel_date</th>\n      <th>ESG_2020_rel_date</th>\n      <th>ESG_2021_rel_date</th>\n      <th>ESG_2022_rel_date</th>\n      <th>ESG_2023_rel_date</th>\n    </tr>\n  </thead>\n  <tbody>\n  </tbody>\n</table>\n</div>"
     },
     "metadata": {},
     "execution_count": 11
    }
   ],
   "source": [
    "columns = ['stock_code', 'ESG_2017_rel_date', 'ESG_2018_rel_date', 'ESG_2019_rel_date', 'ESG_2020_rel_date', 'ESG_2021_rel_date', 'ESG_2022_rel_date', 'ESG_2023_rel_date']\n",
    "df_result = pd.DataFrame(columns=columns)\n",
    "df_result"
   ]
  },
  {
   "cell_type": "code",
   "execution_count": 12,
   "metadata": {},
   "outputs": [],
   "source": [
    "def concatenateData(df_result, df_year):\n",
    "    for index, row in df_year.iterrows():\n",
    "        if row['stock_code'] not in df_result['stock_code'].values:\n",
    "            df_result = df_result.append(row, ignore_index = True)\n",
    "    return df_result\n"
   ]
  },
  {
   "cell_type": "code",
   "execution_count": 13,
   "metadata": {},
   "outputs": [
    {
     "output_type": "execute_result",
     "data": {
      "text/plain": [
       "     stock_code ESG_2017_rel_date ESG_2018_rel_date ESG_2019_rel_date  \\\n",
       "0      00016.HK               NaN               NaN               NaN   \n",
       "1      00315.HK               NaN               NaN               NaN   \n",
       "2      01079.HK        22/12/2017               NaN               NaN   \n",
       "3      00717.HK        21/12/2017               NaN               NaN   \n",
       "4      00659.HK        21/12/2017               NaN               NaN   \n",
       "...         ...               ...               ...               ...   \n",
       "1315   08368.HK               NaN               NaN               NaN   \n",
       "1316   01970.HK               NaN               NaN               NaN   \n",
       "1317   00008.HK               NaN               NaN               NaN   \n",
       "1318   06823.HK               NaN               NaN               NaN   \n",
       "1319   01161.HK               NaN               NaN               NaN   \n",
       "\n",
       "     ESG_2020_rel_date ESG_2021_rel_date ESG_2022_rel_date ESG_2023_rel_date  \n",
       "0                  NaN               NaN               NaN               NaN  \n",
       "1                  NaN               NaN               NaN               NaN  \n",
       "2                  NaN               NaN               NaN               NaN  \n",
       "3                  NaN               NaN               NaN               NaN  \n",
       "4                  NaN               NaN               NaN               NaN  \n",
       "...                ...               ...               ...               ...  \n",
       "1315               NaN               NaN               NaN               NaN  \n",
       "1316               NaN               NaN               NaN               NaN  \n",
       "1317               NaN               NaN               NaN               NaN  \n",
       "1318               NaN               NaN               NaN               NaN  \n",
       "1319               NaN               NaN               NaN               NaN  \n",
       "\n",
       "[1320 rows x 8 columns]"
      ],
      "text/html": "<div>\n<style scoped>\n    .dataframe tbody tr th:only-of-type {\n        vertical-align: middle;\n    }\n\n    .dataframe tbody tr th {\n        vertical-align: top;\n    }\n\n    .dataframe thead th {\n        text-align: right;\n    }\n</style>\n<table border=\"1\" class=\"dataframe\">\n  <thead>\n    <tr style=\"text-align: right;\">\n      <th></th>\n      <th>stock_code</th>\n      <th>ESG_2017_rel_date</th>\n      <th>ESG_2018_rel_date</th>\n      <th>ESG_2019_rel_date</th>\n      <th>ESG_2020_rel_date</th>\n      <th>ESG_2021_rel_date</th>\n      <th>ESG_2022_rel_date</th>\n      <th>ESG_2023_rel_date</th>\n    </tr>\n  </thead>\n  <tbody>\n    <tr>\n      <th>0</th>\n      <td>00016.HK</td>\n      <td>NaN</td>\n      <td>NaN</td>\n      <td>NaN</td>\n      <td>NaN</td>\n      <td>NaN</td>\n      <td>NaN</td>\n      <td>NaN</td>\n    </tr>\n    <tr>\n      <th>1</th>\n      <td>00315.HK</td>\n      <td>NaN</td>\n      <td>NaN</td>\n      <td>NaN</td>\n      <td>NaN</td>\n      <td>NaN</td>\n      <td>NaN</td>\n      <td>NaN</td>\n    </tr>\n    <tr>\n      <th>2</th>\n      <td>01079.HK</td>\n      <td>22/12/2017</td>\n      <td>NaN</td>\n      <td>NaN</td>\n      <td>NaN</td>\n      <td>NaN</td>\n      <td>NaN</td>\n      <td>NaN</td>\n    </tr>\n    <tr>\n      <th>3</th>\n      <td>00717.HK</td>\n      <td>21/12/2017</td>\n      <td>NaN</td>\n      <td>NaN</td>\n      <td>NaN</td>\n      <td>NaN</td>\n      <td>NaN</td>\n      <td>NaN</td>\n    </tr>\n    <tr>\n      <th>4</th>\n      <td>00659.HK</td>\n      <td>21/12/2017</td>\n      <td>NaN</td>\n      <td>NaN</td>\n      <td>NaN</td>\n      <td>NaN</td>\n      <td>NaN</td>\n      <td>NaN</td>\n    </tr>\n    <tr>\n      <th>...</th>\n      <td>...</td>\n      <td>...</td>\n      <td>...</td>\n      <td>...</td>\n      <td>...</td>\n      <td>...</td>\n      <td>...</td>\n      <td>...</td>\n    </tr>\n    <tr>\n      <th>1315</th>\n      <td>08368.HK</td>\n      <td>NaN</td>\n      <td>NaN</td>\n      <td>NaN</td>\n      <td>NaN</td>\n      <td>NaN</td>\n      <td>NaN</td>\n      <td>NaN</td>\n    </tr>\n    <tr>\n      <th>1316</th>\n      <td>01970.HK</td>\n      <td>NaN</td>\n      <td>NaN</td>\n      <td>NaN</td>\n      <td>NaN</td>\n      <td>NaN</td>\n      <td>NaN</td>\n      <td>NaN</td>\n    </tr>\n    <tr>\n      <th>1317</th>\n      <td>00008.HK</td>\n      <td>NaN</td>\n      <td>NaN</td>\n      <td>NaN</td>\n      <td>NaN</td>\n      <td>NaN</td>\n      <td>NaN</td>\n      <td>NaN</td>\n    </tr>\n    <tr>\n      <th>1318</th>\n      <td>06823.HK</td>\n      <td>NaN</td>\n      <td>NaN</td>\n      <td>NaN</td>\n      <td>NaN</td>\n      <td>NaN</td>\n      <td>NaN</td>\n      <td>NaN</td>\n    </tr>\n    <tr>\n      <th>1319</th>\n      <td>01161.HK</td>\n      <td>NaN</td>\n      <td>NaN</td>\n      <td>NaN</td>\n      <td>NaN</td>\n      <td>NaN</td>\n      <td>NaN</td>\n      <td>NaN</td>\n    </tr>\n  </tbody>\n</table>\n<p>1320 rows × 8 columns</p>\n</div>"
     },
     "metadata": {},
     "execution_count": 13
    }
   ],
   "source": [
    "df_result = concatenateData(df_result, df_2017)\n",
    "df_result"
   ]
  },
  {
   "cell_type": "code",
   "execution_count": 18,
   "metadata": {},
   "outputs": [
    {
     "output_type": "stream",
     "name": "stdout",
     "text": [
      "Empty DataFrame\nColumns: [stock_code, ESG_2017_rel_date, ESG_2018_rel_date, ESG_2019_rel_date, ESG_2020_rel_date, ESG_2021_rel_date, ESG_2022_rel_date, ESG_2023_rel_date]\nIndex: []\n"
     ]
    }
   ],
   "source": [
    "print(df_result.loc[df_result['stock_code'] == '00254.HK'])"
   ]
  },
  {
   "cell_type": "code",
   "execution_count": null,
   "metadata": {},
   "outputs": [],
   "source": []
  }
 ]
}