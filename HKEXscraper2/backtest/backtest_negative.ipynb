{
 "cells": [
  {
   "cell_type": "code",
   "execution_count": 3,
   "id": "limiting-italian",
   "metadata": {},
   "outputs": [],
   "source": [
    "import datetime\n",
    "import yfinance as yf\n",
    "import time"
   ]
  },
  {
   "cell_type": "code",
   "execution_count": 4,
   "id": "quarterly-scope",
   "metadata": {},
   "outputs": [],
   "source": [
    "def find_trading_holiday(start, end):\n",
    "    start = datetime.datetime(2017, 1, 1).date()\n",
    "    end = datetime.datetime(2017, 12, 31).date()\n",
    "    holidays = []\n",
    "    # end = start + datetime.timedelta(days=35)\n",
    "    # print(end)\n",
    "    HSI_price = yf.download(\"^HSI\", start, end)\n",
    "    list_trading_day = [day.date() for day in HSI_price.index.tolist()]\n",
    "   \n",
    "    while cur_day <= end_day:\n",
    "        if cur_day not in list_trading_day:\n",
    "            holidays.append(cur_day.strftime('%d-%m-%Y'))\n",
    "        cur_day += datetime.timedelta(days=1)\n",
    "   \n",
    "    return holidays"
   ]
  },
  {
   "cell_type": "code",
   "execution_count": 5,
   "id": "contained-senegal",
   "metadata": {},
   "outputs": [
    {
     "name": "stdout",
     "output_type": "stream",
     "text": [
      "\r",
      "[*********************100%%**********************]  1 of 1 completed"
     ]
    },
    {
     "name": "stderr",
     "output_type": "stream",
     "text": [
      "\n",
      "1 Failed download:\n",
      "['0330.HK']: Exception('%ticker%: No price data found, symbol may be delisted (1d 2019-01-11 -> 2019-01-12)')\n"
     ]
    },
    {
     "name": "stdout",
     "output_type": "stream",
     "text": [
      "\n"
     ]
    }
   ],
   "source": [
    "start = datetime.datetime(2019, 1, 11).date()\n",
    "end = datetime.datetime(2019, 1, 12).date()\n",
    "HSI_price = yf.download(\"0330.HK\", start, end)"
   ]
  },
  {
   "cell_type": "code",
   "execution_count": 28,
   "id": "brilliant-planet",
   "metadata": {},
   "outputs": [],
   "source": []
  },
  {
   "cell_type": "code",
   "execution_count": null,
   "id": "unlike-nitrogen",
   "metadata": {},
   "outputs": [],
   "source": []
  },
  {
   "cell_type": "code",
   "execution_count": null,
   "id": "wooden-wholesale",
   "metadata": {},
   "outputs": [],
   "source": []
  },
  {
   "cell_type": "code",
   "execution_count": null,
   "id": "infinite-print",
   "metadata": {},
   "outputs": [],
   "source": []
  }
 ],
 "metadata": {
  "kernelspec": {
   "display_name": "Python 3",
   "language": "python",
   "name": "python3"
  },
  "language_info": {
   "codemirror_mode": {
    "name": "ipython",
    "version": 3
   },
   "file_extension": ".py",
   "mimetype": "text/x-python",
   "name": "python",
   "nbconvert_exporter": "python",
   "pygments_lexer": "ipython3",
   "version": "3.8.5"
  }
 },
 "nbformat": 4,
 "nbformat_minor": 5
}
